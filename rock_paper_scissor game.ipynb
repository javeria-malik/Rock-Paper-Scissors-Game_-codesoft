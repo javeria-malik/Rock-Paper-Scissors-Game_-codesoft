{
 "cells": [
  {
   "cell_type": "code",
   "execution_count": 13,
   "id": "c6443edf",
   "metadata": {},
   "outputs": [],
   "source": [
    "import random "
   ]
  },
  {
   "cell_type": "code",
   "execution_count": 14,
   "id": "ff111f7e",
   "metadata": {},
   "outputs": [],
   "source": [
    "def user_choice():#first create function for user\n",
    "    while True:\n",
    "        user_input=input(\"Enter your choice!\\n 1.rock 2.scissor \\n 3.paper\").lower()\n",
    "        if user_input in ([\"rock\",\"scissor\",\"paper\"]):\n",
    "            return user_input\n",
    "        else:\n",
    "            print(\"Kindly Enter valid choice\")\n",
    "    "
   ]
  },
  {
   "cell_type": "code",
   "execution_count": 15,
   "id": "8f4ca629",
   "metadata": {},
   "outputs": [],
   "source": [
    "def computer_choice():# create function for computer choice \n",
    "    computer_choice= random.choice([\"rock\",\"scissor\",\"paper\"])\n",
    "    return computer_choice\n",
    "    "
   ]
  },
  {
   "cell_type": "code",
   "execution_count": 16,
   "id": "c1d5327b",
   "metadata": {},
   "outputs": [],
   "source": [
    "def winner(user_choice,computer_choice):# create the function ehich user and computer choice to determine result\n",
    "    if user_choice==computer_choice:\n",
    "        return \"its an tie! well played\"\n",
    "    elif (user_choice==\"rock\" and computer_choice==\"scissor\") or \\\n",
    "         (user_choice==\"scissor\" and computer_choice==\"paper\") or \\\n",
    "         (user_choice==\"paper\" and computer_choice==\"rock\"):\n",
    "        return \"user win ! Congratulation\"\n",
    "    else:\n",
    "        return \"Computer win ! Try again\"\n",
    "    \n",
    "    "
   ]
  },
  {
   "cell_type": "code",
   "execution_count": 17,
   "id": "ddef0971",
   "metadata": {},
   "outputs": [],
   "source": [
    "def play():# lets now create the main function which uses akll choice to determine who will win \n",
    "    user_score=0\n",
    "    computer_score=0\n",
    "    while True:\n",
    "        user=user_choice()\n",
    "        computer=computer_choice()\n",
    "        print(\"you choose\",user)\n",
    "        print(\"Computer choose\",computer)\n",
    "        result=winner(user,computer)\n",
    "        print(result)\n",
    "        if result==\"user win ! Congratulation\":\n",
    "            user_score+=1\n",
    "        elif result==\"Computer win ! Try again\":\n",
    "            computer_score+=1\n",
    "        print(\"your score is\",user_score)\n",
    "        print(\"computer_score is\",computer_score)\n",
    "        play_again=input(\"DO YOU WANT TO PLAY AGAIN\").lower()\n",
    "        if play_again!=\"yes\":\n",
    "            break\n",
    "    print(\"thanks for play!\")"
   ]
  },
  {
   "cell_type": "code",
   "execution_count": 18,
   "id": "eb8619ad",
   "metadata": {},
   "outputs": [
    {
     "name": "stdout",
     "output_type": "stream",
     "text": [
      "welcome in the game\n",
      "Enter your choice!\n",
      " 1.rock 2.scissor \n",
      " 3.paperrock\n",
      "you choose rock\n",
      "Computer choose paper\n",
      "Computer win ! Try again\n",
      "your score is 0\n",
      "computer_score is 1\n",
      "DO YOU WANT TO PLAY AGAINyes\n",
      "Enter your choice!\n",
      " 1.rock 2.scissor \n",
      " 3.paperpaper\n",
      "you choose paper\n",
      "Computer choose paper\n",
      "its an tie! well played\n",
      "your score is 0\n",
      "computer_score is 1\n",
      "DO YOU WANT TO PLAY AGAINno\n",
      "thanks for play!\n"
     ]
    }
   ],
   "source": [
    "if __name__==\"__main__\":# here main function define \n",
    "    print(\"welcome in the game\")\n",
    "    play()"
   ]
  },
  {
   "cell_type": "code",
   "execution_count": null,
   "id": "68a31a54",
   "metadata": {},
   "outputs": [],
   "source": []
  },
  {
   "cell_type": "code",
   "execution_count": null,
   "id": "188a5cd2",
   "metadata": {},
   "outputs": [],
   "source": []
  }
 ],
 "metadata": {
  "kernelspec": {
   "display_name": "Python 3 (ipykernel)",
   "language": "python",
   "name": "python3"
  },
  "language_info": {
   "codemirror_mode": {
    "name": "ipython",
    "version": 3
   },
   "file_extension": ".py",
   "mimetype": "text/x-python",
   "name": "python",
   "nbconvert_exporter": "python",
   "pygments_lexer": "ipython3",
   "version": "3.11.4"
  }
 },
 "nbformat": 4,
 "nbformat_minor": 5
}
